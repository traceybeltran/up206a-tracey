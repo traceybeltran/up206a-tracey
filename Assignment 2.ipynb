{
 "cells": [
  {
   "cell_type": "markdown",
   "metadata": {},
   "source": [
    "# Assignment 2\n",
    "Beltran, Tracey\n",
    "\n",
    "**In this assignment, I observe a data set from the Los Angeles County Open Data website. The data set is titled Income, Poverty, and Living Wage. Before I upload the data set, I will import the necessary files needed to create a map of the poverty rates in Los Angeles County. Below I outline the steps I took to download the data set and then explore the file's information. I will look at the number of data set collected. I will ideally like to use the Income, Poverty, and Living Wage data set for my project. I will take the opportunity of this assignment to see if this information will be useful for my project and if the information I want to look at is going to make a good research topic.!** \n"
   ]
  },
  {
   "cell_type": "markdown",
   "metadata": {},
   "source": [
    "## Relevant Imports\n",
    "- The operations below import the relevent information to help run codes with the data. I wanted to do this at the beginning of this notebook in case I forgot down the line. \n",
    "- I also upload the data file that I have imported into this folder under data. "
   ]
  },
  {
   "cell_type": "code",
   "execution_count": 2,
   "metadata": {},
   "outputs": [],
   "source": [
    "import geopandas as gpd"
   ]
  },
  {
   "cell_type": "code",
   "execution_count": 3,
   "metadata": {},
   "outputs": [],
   "source": [
    "import fiona"
   ]
  },
  {
   "cell_type": "code",
   "execution_count": 4,
   "metadata": {},
   "outputs": [],
   "source": [
    "import folium"
   ]
  },
  {
   "cell_type": "code",
   "execution_count": 5,
   "metadata": {},
   "outputs": [],
   "source": [
    "poverty_rate = gpd.read_file('data/geo_export_7cfe3569-5203-4ce1-9f1a-3d74bfa9e15b.shp')"
   ]
  },
  {
   "cell_type": "code",
   "execution_count": 6,
   "metadata": {
    "scrolled": true
   },
   "outputs": [
    {
     "data": {
      "text/plain": [
       "geopandas.geodataframe.GeoDataFrame"
      ]
     },
     "execution_count": 6,
     "metadata": {},
     "output_type": "execute_result"
    }
   ],
   "source": [
    "type(poverty_rate)"
   ]
  },
  {
   "cell_type": "markdown",
   "metadata": {},
   "source": [
    "## Assessing the Data\n",
    ">It took me a while to upload the data beause the first data file I wanted to upload was not correct. I decided to upload a data file I shared in week 1 and it worked! \n",
    "\n",
    "- Below I look at the first 10 rows in the data. What I am intereted in looking at is the povrate percentage.\n",
    "- poverty_rate.shape shows me the number of columns and rows in the data\n"
   ]
  },
  {
   "cell_type": "code",
   "execution_count": 7,
   "metadata": {
    "scrolled": true
   },
   "outputs": [
    {
     "data": {
      "text/html": [
       "<div>\n",
       "<style scoped>\n",
       "    .dataframe tbody tr th:only-of-type {\n",
       "        vertical-align: middle;\n",
       "    }\n",
       "\n",
       "    .dataframe tbody tr th {\n",
       "        vertical-align: top;\n",
       "    }\n",
       "\n",
       "    .dataframe thead th {\n",
       "        text-align: right;\n",
       "    }\n",
       "</style>\n",
       "<table border=\"1\" class=\"dataframe\">\n",
       "  <thead>\n",
       "    <tr style=\"text-align: right;\">\n",
       "      <th></th>\n",
       "      <th>aland</th>\n",
       "      <th>awater</th>\n",
       "      <th>countyfp</th>\n",
       "      <th>funcstat</th>\n",
       "      <th>geoid</th>\n",
       "      <th>geoid2</th>\n",
       "      <th>geoid2_1</th>\n",
       "      <th>intptlat</th>\n",
       "      <th>intptlon</th>\n",
       "      <th>mtfcc</th>\n",
       "      <th>name</th>\n",
       "      <th>namelsad</th>\n",
       "      <th>povrate</th>\n",
       "      <th>statefp</th>\n",
       "      <th>tractce</th>\n",
       "      <th>geometry</th>\n",
       "    </tr>\n",
       "  </thead>\n",
       "  <tbody>\n",
       "    <tr>\n",
       "      <th>0</th>\n",
       "      <td>909972.0</td>\n",
       "      <td>0.0</td>\n",
       "      <td>037</td>\n",
       "      <td>S</td>\n",
       "      <td>06037204920</td>\n",
       "      <td>6.037205e+09</td>\n",
       "      <td>6.037205e+09</td>\n",
       "      <td>+34.0175004</td>\n",
       "      <td>-118.1974975</td>\n",
       "      <td>G5020</td>\n",
       "      <td>2049.20</td>\n",
       "      <td>Census Tract 2049.20</td>\n",
       "      <td>28.3</td>\n",
       "      <td>06</td>\n",
       "      <td>204920</td>\n",
       "      <td>POLYGON ((-118.20284 34.01966, -118.20283 34.0...</td>\n",
       "    </tr>\n",
       "    <tr>\n",
       "      <th>1</th>\n",
       "      <td>286962.0</td>\n",
       "      <td>0.0</td>\n",
       "      <td>037</td>\n",
       "      <td>S</td>\n",
       "      <td>06037205110</td>\n",
       "      <td>6.037205e+09</td>\n",
       "      <td>6.037205e+09</td>\n",
       "      <td>+34.0245059</td>\n",
       "      <td>-118.2142985</td>\n",
       "      <td>G5020</td>\n",
       "      <td>2051.10</td>\n",
       "      <td>Census Tract 2051.10</td>\n",
       "      <td>29.4</td>\n",
       "      <td>06</td>\n",
       "      <td>205110</td>\n",
       "      <td>POLYGON ((-118.21964 34.02628, -118.21945 34.0...</td>\n",
       "    </tr>\n",
       "    <tr>\n",
       "      <th>2</th>\n",
       "      <td>1270796.0</td>\n",
       "      <td>0.0</td>\n",
       "      <td>037</td>\n",
       "      <td>S</td>\n",
       "      <td>06037300501</td>\n",
       "      <td>6.037301e+09</td>\n",
       "      <td>6.037301e+09</td>\n",
       "      <td>+34.2206688</td>\n",
       "      <td>-118.2399756</td>\n",
       "      <td>G5020</td>\n",
       "      <td>3005.01</td>\n",
       "      <td>Census Tract 3005.01</td>\n",
       "      <td>6.3</td>\n",
       "      <td>06</td>\n",
       "      <td>300501</td>\n",
       "      <td>POLYGON ((-118.24875 34.22249, -118.24875 34.2...</td>\n",
       "    </tr>\n",
       "    <tr>\n",
       "      <th>3</th>\n",
       "      <td>1466129.0</td>\n",
       "      <td>0.0</td>\n",
       "      <td>037</td>\n",
       "      <td>S</td>\n",
       "      <td>06037205120</td>\n",
       "      <td>6.037205e+09</td>\n",
       "      <td>6.037205e+09</td>\n",
       "      <td>+34.0187546</td>\n",
       "      <td>-118.2117956</td>\n",
       "      <td>G5020</td>\n",
       "      <td>2051.20</td>\n",
       "      <td>Census Tract 2051.20</td>\n",
       "      <td>35.5</td>\n",
       "      <td>06</td>\n",
       "      <td>205120</td>\n",
       "      <td>POLYGON ((-118.22023 34.02056, -118.22018 34.0...</td>\n",
       "    </tr>\n",
       "    <tr>\n",
       "      <th>4</th>\n",
       "      <td>1418138.0</td>\n",
       "      <td>20551.0</td>\n",
       "      <td>037</td>\n",
       "      <td>S</td>\n",
       "      <td>06037206010</td>\n",
       "      <td>6.037206e+09</td>\n",
       "      <td>6.037206e+09</td>\n",
       "      <td>+34.0682177</td>\n",
       "      <td>-118.2320356</td>\n",
       "      <td>G5020</td>\n",
       "      <td>2060.10</td>\n",
       "      <td>Census Tract 2060.10</td>\n",
       "      <td>38.7</td>\n",
       "      <td>06</td>\n",
       "      <td>206010</td>\n",
       "      <td>POLYGON ((-118.23924 34.06726, -118.23800 34.0...</td>\n",
       "    </tr>\n",
       "  </tbody>\n",
       "</table>\n",
       "</div>"
      ],
      "text/plain": [
       "       aland   awater countyfp funcstat        geoid        geoid2  \\\n",
       "0   909972.0      0.0      037        S  06037204920  6.037205e+09   \n",
       "1   286962.0      0.0      037        S  06037205110  6.037205e+09   \n",
       "2  1270796.0      0.0      037        S  06037300501  6.037301e+09   \n",
       "3  1466129.0      0.0      037        S  06037205120  6.037205e+09   \n",
       "4  1418138.0  20551.0      037        S  06037206010  6.037206e+09   \n",
       "\n",
       "       geoid2_1     intptlat      intptlon  mtfcc     name  \\\n",
       "0  6.037205e+09  +34.0175004  -118.1974975  G5020  2049.20   \n",
       "1  6.037205e+09  +34.0245059  -118.2142985  G5020  2051.10   \n",
       "2  6.037301e+09  +34.2206688  -118.2399756  G5020  3005.01   \n",
       "3  6.037205e+09  +34.0187546  -118.2117956  G5020  2051.20   \n",
       "4  6.037206e+09  +34.0682177  -118.2320356  G5020  2060.10   \n",
       "\n",
       "               namelsad  povrate statefp tractce  \\\n",
       "0  Census Tract 2049.20     28.3      06  204920   \n",
       "1  Census Tract 2051.10     29.4      06  205110   \n",
       "2  Census Tract 3005.01      6.3      06  300501   \n",
       "3  Census Tract 2051.20     35.5      06  205120   \n",
       "4  Census Tract 2060.10     38.7      06  206010   \n",
       "\n",
       "                                            geometry  \n",
       "0  POLYGON ((-118.20284 34.01966, -118.20283 34.0...  \n",
       "1  POLYGON ((-118.21964 34.02628, -118.21945 34.0...  \n",
       "2  POLYGON ((-118.24875 34.22249, -118.24875 34.2...  \n",
       "3  POLYGON ((-118.22023 34.02056, -118.22018 34.0...  \n",
       "4  POLYGON ((-118.23924 34.06726, -118.23800 34.0...  "
      ]
     },
     "execution_count": 7,
     "metadata": {},
     "output_type": "execute_result"
    }
   ],
   "source": [
    "poverty_rate.head()"
   ]
  },
  {
   "cell_type": "code",
   "execution_count": 8,
   "metadata": {},
   "outputs": [
    {
     "data": {
      "text/plain": [
       "(2343, 16)"
      ]
     },
     "execution_count": 8,
     "metadata": {},
     "output_type": "execute_result"
    }
   ],
   "source": [
    "poverty_rate.shape"
   ]
  },
  {
   "cell_type": "code",
   "execution_count": 9,
   "metadata": {
    "scrolled": true
   },
   "outputs": [
    {
     "data": {
      "text/plain": [
       "<bound method DataFrame.info of           aland    awater countyfp funcstat        geoid        geoid2  \\\n",
       "0      909972.0       0.0      037        S  06037204920  6.037205e+09   \n",
       "1      286962.0       0.0      037        S  06037205110  6.037205e+09   \n",
       "2     1270796.0       0.0      037        S  06037300501  6.037301e+09   \n",
       "3     1466129.0       0.0      037        S  06037205120  6.037205e+09   \n",
       "4     1418138.0   20551.0      037        S  06037206010  6.037206e+09   \n",
       "...         ...       ...      ...      ...          ...           ...   \n",
       "2338  1400357.0       0.0      037        S  06037541700  6.037542e+09   \n",
       "2339   808997.0       6.0      037        S  06037533603  6.037534e+09   \n",
       "2340  5188936.0  220674.0      037        S  06037980015  6.037980e+09   \n",
       "2341  3620352.0       0.0      037        S  06037262601  6.037263e+09   \n",
       "2342  4579336.0   18657.0      037        S  06037300100  6.037300e+09   \n",
       "\n",
       "          geoid2_1     intptlat      intptlon  mtfcc     name  \\\n",
       "0     6.037205e+09  +34.0175004  -118.1974975  G5020  2049.20   \n",
       "1     6.037205e+09  +34.0245059  -118.2142985  G5020  2051.10   \n",
       "2     6.037301e+09  +34.2206688  -118.2399756  G5020  3005.01   \n",
       "3     6.037205e+09  +34.0187546  -118.2117956  G5020  2051.20   \n",
       "4     6.037206e+09  +34.0682177  -118.2320356  G5020  2060.10   \n",
       "...            ...          ...           ...    ...      ...   \n",
       "2338  6.037542e+09  +33.9170526  -118.2033535  G5020     5417   \n",
       "2339  6.037534e+09  +33.9724728  -118.1950660  G5020  5336.03   \n",
       "2340  6.037980e+09  +33.7732472  -118.2888391  G5020  9800.15   \n",
       "2341  6.037263e+09  +34.0738344  -118.5557893  G5020  2626.01   \n",
       "2342  6.037300e+09  +34.2442558  -118.2325716  G5020     3001   \n",
       "\n",
       "                  namelsad  povrate statefp tractce  \\\n",
       "0     Census Tract 2049.20     28.3      06  204920   \n",
       "1     Census Tract 2051.10     29.4      06  205110   \n",
       "2     Census Tract 3005.01      6.3      06  300501   \n",
       "3     Census Tract 2051.20     35.5      06  205120   \n",
       "4     Census Tract 2060.10     38.7      06  206010   \n",
       "...                    ...      ...     ...     ...   \n",
       "2338     Census Tract 5417     19.7      06  541700   \n",
       "2339  Census Tract 5336.03     26.2      06  533603   \n",
       "2340  Census Tract 9800.15     24.0      06  980015   \n",
       "2341  Census Tract 2626.01      5.8      06  262601   \n",
       "2342     Census Tract 3001      4.3      06  300100   \n",
       "\n",
       "                                               geometry  \n",
       "0     POLYGON ((-118.20284 34.01966, -118.20283 34.0...  \n",
       "1     POLYGON ((-118.21964 34.02628, -118.21945 34.0...  \n",
       "2     POLYGON ((-118.24875 34.22249, -118.24875 34.2...  \n",
       "3     POLYGON ((-118.22023 34.02056, -118.22018 34.0...  \n",
       "4     POLYGON ((-118.23924 34.06726, -118.23800 34.0...  \n",
       "...                                                 ...  \n",
       "2338  POLYGON ((-118.20985 33.92506, -118.20579 33.9...  \n",
       "2339  POLYGON ((-118.20617 33.97632, -118.20610 33.9...  \n",
       "2340  POLYGON ((-118.31048 33.76685, -118.31023 33.7...  \n",
       "2341  POLYGON ((-118.57556 34.08019, -118.57497 34.0...  \n",
       "2342  POLYGON ((-118.24860 34.23881, -118.24858 34.2...  \n",
       "\n",
       "[2343 rows x 16 columns]>"
      ]
     },
     "execution_count": 9,
     "metadata": {},
     "output_type": "execute_result"
    }
   ],
   "source": [
    "poverty_rate.info"
   ]
  },
  {
   "cell_type": "code",
   "execution_count": 10,
   "metadata": {},
   "outputs": [],
   "source": [
    "desired_columns = [['intptlat','intptlon','name','namelsad','povrate','geometry']]"
   ]
  },
  {
   "cell_type": "code",
   "execution_count": 11,
   "metadata": {
    "scrolled": true
   },
   "outputs": [
    {
     "data": {
      "text/html": [
       "<div>\n",
       "<style scoped>\n",
       "    .dataframe tbody tr th:only-of-type {\n",
       "        vertical-align: middle;\n",
       "    }\n",
       "\n",
       "    .dataframe tbody tr th {\n",
       "        vertical-align: top;\n",
       "    }\n",
       "\n",
       "    .dataframe thead th {\n",
       "        text-align: right;\n",
       "    }\n",
       "</style>\n",
       "<table border=\"1\" class=\"dataframe\">\n",
       "  <thead>\n",
       "    <tr style=\"text-align: right;\">\n",
       "      <th></th>\n",
       "      <th>intptlat</th>\n",
       "      <th>intptlon</th>\n",
       "      <th>name</th>\n",
       "      <th>namelsad</th>\n",
       "      <th>povrate</th>\n",
       "      <th>geometry</th>\n",
       "    </tr>\n",
       "  </thead>\n",
       "  <tbody>\n",
       "    <tr>\n",
       "      <th>0</th>\n",
       "      <td>+34.0175004</td>\n",
       "      <td>-118.1974975</td>\n",
       "      <td>2049.20</td>\n",
       "      <td>Census Tract 2049.20</td>\n",
       "      <td>28.3</td>\n",
       "      <td>POLYGON ((-118.20284 34.01966, -118.20283 34.0...</td>\n",
       "    </tr>\n",
       "    <tr>\n",
       "      <th>1</th>\n",
       "      <td>+34.0245059</td>\n",
       "      <td>-118.2142985</td>\n",
       "      <td>2051.10</td>\n",
       "      <td>Census Tract 2051.10</td>\n",
       "      <td>29.4</td>\n",
       "      <td>POLYGON ((-118.21964 34.02628, -118.21945 34.0...</td>\n",
       "    </tr>\n",
       "    <tr>\n",
       "      <th>2</th>\n",
       "      <td>+34.2206688</td>\n",
       "      <td>-118.2399756</td>\n",
       "      <td>3005.01</td>\n",
       "      <td>Census Tract 3005.01</td>\n",
       "      <td>6.3</td>\n",
       "      <td>POLYGON ((-118.24875 34.22249, -118.24875 34.2...</td>\n",
       "    </tr>\n",
       "    <tr>\n",
       "      <th>3</th>\n",
       "      <td>+34.0187546</td>\n",
       "      <td>-118.2117956</td>\n",
       "      <td>2051.20</td>\n",
       "      <td>Census Tract 2051.20</td>\n",
       "      <td>35.5</td>\n",
       "      <td>POLYGON ((-118.22023 34.02056, -118.22018 34.0...</td>\n",
       "    </tr>\n",
       "    <tr>\n",
       "      <th>4</th>\n",
       "      <td>+34.0682177</td>\n",
       "      <td>-118.2320356</td>\n",
       "      <td>2060.10</td>\n",
       "      <td>Census Tract 2060.10</td>\n",
       "      <td>38.7</td>\n",
       "      <td>POLYGON ((-118.23924 34.06726, -118.23800 34.0...</td>\n",
       "    </tr>\n",
       "    <tr>\n",
       "      <th>...</th>\n",
       "      <td>...</td>\n",
       "      <td>...</td>\n",
       "      <td>...</td>\n",
       "      <td>...</td>\n",
       "      <td>...</td>\n",
       "      <td>...</td>\n",
       "    </tr>\n",
       "    <tr>\n",
       "      <th>2338</th>\n",
       "      <td>+33.9170526</td>\n",
       "      <td>-118.2033535</td>\n",
       "      <td>5417</td>\n",
       "      <td>Census Tract 5417</td>\n",
       "      <td>19.7</td>\n",
       "      <td>POLYGON ((-118.20985 33.92506, -118.20579 33.9...</td>\n",
       "    </tr>\n",
       "    <tr>\n",
       "      <th>2339</th>\n",
       "      <td>+33.9724728</td>\n",
       "      <td>-118.1950660</td>\n",
       "      <td>5336.03</td>\n",
       "      <td>Census Tract 5336.03</td>\n",
       "      <td>26.2</td>\n",
       "      <td>POLYGON ((-118.20617 33.97632, -118.20610 33.9...</td>\n",
       "    </tr>\n",
       "    <tr>\n",
       "      <th>2340</th>\n",
       "      <td>+33.7732472</td>\n",
       "      <td>-118.2888391</td>\n",
       "      <td>9800.15</td>\n",
       "      <td>Census Tract 9800.15</td>\n",
       "      <td>24.0</td>\n",
       "      <td>POLYGON ((-118.31048 33.76685, -118.31023 33.7...</td>\n",
       "    </tr>\n",
       "    <tr>\n",
       "      <th>2341</th>\n",
       "      <td>+34.0738344</td>\n",
       "      <td>-118.5557893</td>\n",
       "      <td>2626.01</td>\n",
       "      <td>Census Tract 2626.01</td>\n",
       "      <td>5.8</td>\n",
       "      <td>POLYGON ((-118.57556 34.08019, -118.57497 34.0...</td>\n",
       "    </tr>\n",
       "    <tr>\n",
       "      <th>2342</th>\n",
       "      <td>+34.2442558</td>\n",
       "      <td>-118.2325716</td>\n",
       "      <td>3001</td>\n",
       "      <td>Census Tract 3001</td>\n",
       "      <td>4.3</td>\n",
       "      <td>POLYGON ((-118.24860 34.23881, -118.24858 34.2...</td>\n",
       "    </tr>\n",
       "  </tbody>\n",
       "</table>\n",
       "<p>2343 rows × 6 columns</p>\n",
       "</div>"
      ],
      "text/plain": [
       "         intptlat      intptlon     name              namelsad  povrate  \\\n",
       "0     +34.0175004  -118.1974975  2049.20  Census Tract 2049.20     28.3   \n",
       "1     +34.0245059  -118.2142985  2051.10  Census Tract 2051.10     29.4   \n",
       "2     +34.2206688  -118.2399756  3005.01  Census Tract 3005.01      6.3   \n",
       "3     +34.0187546  -118.2117956  2051.20  Census Tract 2051.20     35.5   \n",
       "4     +34.0682177  -118.2320356  2060.10  Census Tract 2060.10     38.7   \n",
       "...           ...           ...      ...                   ...      ...   \n",
       "2338  +33.9170526  -118.2033535     5417     Census Tract 5417     19.7   \n",
       "2339  +33.9724728  -118.1950660  5336.03  Census Tract 5336.03     26.2   \n",
       "2340  +33.7732472  -118.2888391  9800.15  Census Tract 9800.15     24.0   \n",
       "2341  +34.0738344  -118.5557893  2626.01  Census Tract 2626.01      5.8   \n",
       "2342  +34.2442558  -118.2325716     3001     Census Tract 3001      4.3   \n",
       "\n",
       "                                               geometry  \n",
       "0     POLYGON ((-118.20284 34.01966, -118.20283 34.0...  \n",
       "1     POLYGON ((-118.21964 34.02628, -118.21945 34.0...  \n",
       "2     POLYGON ((-118.24875 34.22249, -118.24875 34.2...  \n",
       "3     POLYGON ((-118.22023 34.02056, -118.22018 34.0...  \n",
       "4     POLYGON ((-118.23924 34.06726, -118.23800 34.0...  \n",
       "...                                                 ...  \n",
       "2338  POLYGON ((-118.20985 33.92506, -118.20579 33.9...  \n",
       "2339  POLYGON ((-118.20617 33.97632, -118.20610 33.9...  \n",
       "2340  POLYGON ((-118.31048 33.76685, -118.31023 33.7...  \n",
       "2341  POLYGON ((-118.57556 34.08019, -118.57497 34.0...  \n",
       "2342  POLYGON ((-118.24860 34.23881, -118.24858 34.2...  \n",
       "\n",
       "[2343 rows x 6 columns]"
      ]
     },
     "execution_count": 11,
     "metadata": {},
     "output_type": "execute_result"
    }
   ],
   "source": [
    "poverty_rate[['intptlat','intptlon','name','namelsad','povrate','geometry']]"
   ]
  },
  {
   "cell_type": "markdown",
   "metadata": {},
   "source": [
    "## Cleaning the data\n",
    "> I removed unnecssary columns from the data. I did this by createing a new label with only the desired columns. I then saved this a a new copy under poverty_rate_trimmed. \n"
   ]
  },
  {
   "cell_type": "code",
   "execution_count": 12,
   "metadata": {},
   "outputs": [],
   "source": [
    "desired_columns = ['intptlat',\n",
    "                   'intptlon',\n",
    "                   'name',\n",
    "                   'namelsad',\n",
    "                   'povrate',\n",
    "                   'geometry']"
   ]
  },
  {
   "cell_type": "code",
   "execution_count": 13,
   "metadata": {},
   "outputs": [
    {
     "data": {
      "text/html": [
       "<div>\n",
       "<style scoped>\n",
       "    .dataframe tbody tr th:only-of-type {\n",
       "        vertical-align: middle;\n",
       "    }\n",
       "\n",
       "    .dataframe tbody tr th {\n",
       "        vertical-align: top;\n",
       "    }\n",
       "\n",
       "    .dataframe thead th {\n",
       "        text-align: right;\n",
       "    }\n",
       "</style>\n",
       "<table border=\"1\" class=\"dataframe\">\n",
       "  <thead>\n",
       "    <tr style=\"text-align: right;\">\n",
       "      <th></th>\n",
       "      <th>intptlat</th>\n",
       "      <th>intptlon</th>\n",
       "      <th>name</th>\n",
       "      <th>namelsad</th>\n",
       "      <th>povrate</th>\n",
       "      <th>geometry</th>\n",
       "    </tr>\n",
       "  </thead>\n",
       "  <tbody>\n",
       "    <tr>\n",
       "      <th>0</th>\n",
       "      <td>+34.0175004</td>\n",
       "      <td>-118.1974975</td>\n",
       "      <td>2049.20</td>\n",
       "      <td>Census Tract 2049.20</td>\n",
       "      <td>28.3</td>\n",
       "      <td>POLYGON ((-118.20284 34.01966, -118.20283 34.0...</td>\n",
       "    </tr>\n",
       "    <tr>\n",
       "      <th>1</th>\n",
       "      <td>+34.0245059</td>\n",
       "      <td>-118.2142985</td>\n",
       "      <td>2051.10</td>\n",
       "      <td>Census Tract 2051.10</td>\n",
       "      <td>29.4</td>\n",
       "      <td>POLYGON ((-118.21964 34.02628, -118.21945 34.0...</td>\n",
       "    </tr>\n",
       "    <tr>\n",
       "      <th>2</th>\n",
       "      <td>+34.2206688</td>\n",
       "      <td>-118.2399756</td>\n",
       "      <td>3005.01</td>\n",
       "      <td>Census Tract 3005.01</td>\n",
       "      <td>6.3</td>\n",
       "      <td>POLYGON ((-118.24875 34.22249, -118.24875 34.2...</td>\n",
       "    </tr>\n",
       "    <tr>\n",
       "      <th>3</th>\n",
       "      <td>+34.0187546</td>\n",
       "      <td>-118.2117956</td>\n",
       "      <td>2051.20</td>\n",
       "      <td>Census Tract 2051.20</td>\n",
       "      <td>35.5</td>\n",
       "      <td>POLYGON ((-118.22023 34.02056, -118.22018 34.0...</td>\n",
       "    </tr>\n",
       "    <tr>\n",
       "      <th>4</th>\n",
       "      <td>+34.0682177</td>\n",
       "      <td>-118.2320356</td>\n",
       "      <td>2060.10</td>\n",
       "      <td>Census Tract 2060.10</td>\n",
       "      <td>38.7</td>\n",
       "      <td>POLYGON ((-118.23924 34.06726, -118.23800 34.0...</td>\n",
       "    </tr>\n",
       "    <tr>\n",
       "      <th>...</th>\n",
       "      <td>...</td>\n",
       "      <td>...</td>\n",
       "      <td>...</td>\n",
       "      <td>...</td>\n",
       "      <td>...</td>\n",
       "      <td>...</td>\n",
       "    </tr>\n",
       "    <tr>\n",
       "      <th>2338</th>\n",
       "      <td>+33.9170526</td>\n",
       "      <td>-118.2033535</td>\n",
       "      <td>5417</td>\n",
       "      <td>Census Tract 5417</td>\n",
       "      <td>19.7</td>\n",
       "      <td>POLYGON ((-118.20985 33.92506, -118.20579 33.9...</td>\n",
       "    </tr>\n",
       "    <tr>\n",
       "      <th>2339</th>\n",
       "      <td>+33.9724728</td>\n",
       "      <td>-118.1950660</td>\n",
       "      <td>5336.03</td>\n",
       "      <td>Census Tract 5336.03</td>\n",
       "      <td>26.2</td>\n",
       "      <td>POLYGON ((-118.20617 33.97632, -118.20610 33.9...</td>\n",
       "    </tr>\n",
       "    <tr>\n",
       "      <th>2340</th>\n",
       "      <td>+33.7732472</td>\n",
       "      <td>-118.2888391</td>\n",
       "      <td>9800.15</td>\n",
       "      <td>Census Tract 9800.15</td>\n",
       "      <td>24.0</td>\n",
       "      <td>POLYGON ((-118.31048 33.76685, -118.31023 33.7...</td>\n",
       "    </tr>\n",
       "    <tr>\n",
       "      <th>2341</th>\n",
       "      <td>+34.0738344</td>\n",
       "      <td>-118.5557893</td>\n",
       "      <td>2626.01</td>\n",
       "      <td>Census Tract 2626.01</td>\n",
       "      <td>5.8</td>\n",
       "      <td>POLYGON ((-118.57556 34.08019, -118.57497 34.0...</td>\n",
       "    </tr>\n",
       "    <tr>\n",
       "      <th>2342</th>\n",
       "      <td>+34.2442558</td>\n",
       "      <td>-118.2325716</td>\n",
       "      <td>3001</td>\n",
       "      <td>Census Tract 3001</td>\n",
       "      <td>4.3</td>\n",
       "      <td>POLYGON ((-118.24860 34.23881, -118.24858 34.2...</td>\n",
       "    </tr>\n",
       "  </tbody>\n",
       "</table>\n",
       "<p>2343 rows × 6 columns</p>\n",
       "</div>"
      ],
      "text/plain": [
       "         intptlat      intptlon     name              namelsad  povrate  \\\n",
       "0     +34.0175004  -118.1974975  2049.20  Census Tract 2049.20     28.3   \n",
       "1     +34.0245059  -118.2142985  2051.10  Census Tract 2051.10     29.4   \n",
       "2     +34.2206688  -118.2399756  3005.01  Census Tract 3005.01      6.3   \n",
       "3     +34.0187546  -118.2117956  2051.20  Census Tract 2051.20     35.5   \n",
       "4     +34.0682177  -118.2320356  2060.10  Census Tract 2060.10     38.7   \n",
       "...           ...           ...      ...                   ...      ...   \n",
       "2338  +33.9170526  -118.2033535     5417     Census Tract 5417     19.7   \n",
       "2339  +33.9724728  -118.1950660  5336.03  Census Tract 5336.03     26.2   \n",
       "2340  +33.7732472  -118.2888391  9800.15  Census Tract 9800.15     24.0   \n",
       "2341  +34.0738344  -118.5557893  2626.01  Census Tract 2626.01      5.8   \n",
       "2342  +34.2442558  -118.2325716     3001     Census Tract 3001      4.3   \n",
       "\n",
       "                                               geometry  \n",
       "0     POLYGON ((-118.20284 34.01966, -118.20283 34.0...  \n",
       "1     POLYGON ((-118.21964 34.02628, -118.21945 34.0...  \n",
       "2     POLYGON ((-118.24875 34.22249, -118.24875 34.2...  \n",
       "3     POLYGON ((-118.22023 34.02056, -118.22018 34.0...  \n",
       "4     POLYGON ((-118.23924 34.06726, -118.23800 34.0...  \n",
       "...                                                 ...  \n",
       "2338  POLYGON ((-118.20985 33.92506, -118.20579 33.9...  \n",
       "2339  POLYGON ((-118.20617 33.97632, -118.20610 33.9...  \n",
       "2340  POLYGON ((-118.31048 33.76685, -118.31023 33.7...  \n",
       "2341  POLYGON ((-118.57556 34.08019, -118.57497 34.0...  \n",
       "2342  POLYGON ((-118.24860 34.23881, -118.24858 34.2...  \n",
       "\n",
       "[2343 rows x 6 columns]"
      ]
     },
     "execution_count": 13,
     "metadata": {},
     "output_type": "execute_result"
    }
   ],
   "source": [
    "poverty_rate[desired_columns]"
   ]
  },
  {
   "cell_type": "code",
   "execution_count": 14,
   "metadata": {},
   "outputs": [
    {
     "data": {
      "text/html": [
       "<div>\n",
       "<style scoped>\n",
       "    .dataframe tbody tr th:only-of-type {\n",
       "        vertical-align: middle;\n",
       "    }\n",
       "\n",
       "    .dataframe tbody tr th {\n",
       "        vertical-align: top;\n",
       "    }\n",
       "\n",
       "    .dataframe thead th {\n",
       "        text-align: right;\n",
       "    }\n",
       "</style>\n",
       "<table border=\"1\" class=\"dataframe\">\n",
       "  <thead>\n",
       "    <tr style=\"text-align: right;\">\n",
       "      <th></th>\n",
       "      <th>intptlat</th>\n",
       "      <th>intptlon</th>\n",
       "      <th>name</th>\n",
       "      <th>namelsad</th>\n",
       "      <th>povrate</th>\n",
       "      <th>geometry</th>\n",
       "    </tr>\n",
       "  </thead>\n",
       "  <tbody>\n",
       "    <tr>\n",
       "      <th>0</th>\n",
       "      <td>+34.0175004</td>\n",
       "      <td>-118.1974975</td>\n",
       "      <td>2049.20</td>\n",
       "      <td>Census Tract 2049.20</td>\n",
       "      <td>28.3</td>\n",
       "      <td>POLYGON ((-118.20284 34.01966, -118.20283 34.0...</td>\n",
       "    </tr>\n",
       "    <tr>\n",
       "      <th>1</th>\n",
       "      <td>+34.0245059</td>\n",
       "      <td>-118.2142985</td>\n",
       "      <td>2051.10</td>\n",
       "      <td>Census Tract 2051.10</td>\n",
       "      <td>29.4</td>\n",
       "      <td>POLYGON ((-118.21964 34.02628, -118.21945 34.0...</td>\n",
       "    </tr>\n",
       "    <tr>\n",
       "      <th>2</th>\n",
       "      <td>+34.2206688</td>\n",
       "      <td>-118.2399756</td>\n",
       "      <td>3005.01</td>\n",
       "      <td>Census Tract 3005.01</td>\n",
       "      <td>6.3</td>\n",
       "      <td>POLYGON ((-118.24875 34.22249, -118.24875 34.2...</td>\n",
       "    </tr>\n",
       "    <tr>\n",
       "      <th>3</th>\n",
       "      <td>+34.0187546</td>\n",
       "      <td>-118.2117956</td>\n",
       "      <td>2051.20</td>\n",
       "      <td>Census Tract 2051.20</td>\n",
       "      <td>35.5</td>\n",
       "      <td>POLYGON ((-118.22023 34.02056, -118.22018 34.0...</td>\n",
       "    </tr>\n",
       "    <tr>\n",
       "      <th>4</th>\n",
       "      <td>+34.0682177</td>\n",
       "      <td>-118.2320356</td>\n",
       "      <td>2060.10</td>\n",
       "      <td>Census Tract 2060.10</td>\n",
       "      <td>38.7</td>\n",
       "      <td>POLYGON ((-118.23924 34.06726, -118.23800 34.0...</td>\n",
       "    </tr>\n",
       "    <tr>\n",
       "      <th>...</th>\n",
       "      <td>...</td>\n",
       "      <td>...</td>\n",
       "      <td>...</td>\n",
       "      <td>...</td>\n",
       "      <td>...</td>\n",
       "      <td>...</td>\n",
       "    </tr>\n",
       "    <tr>\n",
       "      <th>2338</th>\n",
       "      <td>+33.9170526</td>\n",
       "      <td>-118.2033535</td>\n",
       "      <td>5417</td>\n",
       "      <td>Census Tract 5417</td>\n",
       "      <td>19.7</td>\n",
       "      <td>POLYGON ((-118.20985 33.92506, -118.20579 33.9...</td>\n",
       "    </tr>\n",
       "    <tr>\n",
       "      <th>2339</th>\n",
       "      <td>+33.9724728</td>\n",
       "      <td>-118.1950660</td>\n",
       "      <td>5336.03</td>\n",
       "      <td>Census Tract 5336.03</td>\n",
       "      <td>26.2</td>\n",
       "      <td>POLYGON ((-118.20617 33.97632, -118.20610 33.9...</td>\n",
       "    </tr>\n",
       "    <tr>\n",
       "      <th>2340</th>\n",
       "      <td>+33.7732472</td>\n",
       "      <td>-118.2888391</td>\n",
       "      <td>9800.15</td>\n",
       "      <td>Census Tract 9800.15</td>\n",
       "      <td>24.0</td>\n",
       "      <td>POLYGON ((-118.31048 33.76685, -118.31023 33.7...</td>\n",
       "    </tr>\n",
       "    <tr>\n",
       "      <th>2341</th>\n",
       "      <td>+34.0738344</td>\n",
       "      <td>-118.5557893</td>\n",
       "      <td>2626.01</td>\n",
       "      <td>Census Tract 2626.01</td>\n",
       "      <td>5.8</td>\n",
       "      <td>POLYGON ((-118.57556 34.08019, -118.57497 34.0...</td>\n",
       "    </tr>\n",
       "    <tr>\n",
       "      <th>2342</th>\n",
       "      <td>+34.2442558</td>\n",
       "      <td>-118.2325716</td>\n",
       "      <td>3001</td>\n",
       "      <td>Census Tract 3001</td>\n",
       "      <td>4.3</td>\n",
       "      <td>POLYGON ((-118.24860 34.23881, -118.24858 34.2...</td>\n",
       "    </tr>\n",
       "  </tbody>\n",
       "</table>\n",
       "<p>2343 rows × 6 columns</p>\n",
       "</div>"
      ],
      "text/plain": [
       "         intptlat      intptlon     name              namelsad  povrate  \\\n",
       "0     +34.0175004  -118.1974975  2049.20  Census Tract 2049.20     28.3   \n",
       "1     +34.0245059  -118.2142985  2051.10  Census Tract 2051.10     29.4   \n",
       "2     +34.2206688  -118.2399756  3005.01  Census Tract 3005.01      6.3   \n",
       "3     +34.0187546  -118.2117956  2051.20  Census Tract 2051.20     35.5   \n",
       "4     +34.0682177  -118.2320356  2060.10  Census Tract 2060.10     38.7   \n",
       "...           ...           ...      ...                   ...      ...   \n",
       "2338  +33.9170526  -118.2033535     5417     Census Tract 5417     19.7   \n",
       "2339  +33.9724728  -118.1950660  5336.03  Census Tract 5336.03     26.2   \n",
       "2340  +33.7732472  -118.2888391  9800.15  Census Tract 9800.15     24.0   \n",
       "2341  +34.0738344  -118.5557893  2626.01  Census Tract 2626.01      5.8   \n",
       "2342  +34.2442558  -118.2325716     3001     Census Tract 3001      4.3   \n",
       "\n",
       "                                               geometry  \n",
       "0     POLYGON ((-118.20284 34.01966, -118.20283 34.0...  \n",
       "1     POLYGON ((-118.21964 34.02628, -118.21945 34.0...  \n",
       "2     POLYGON ((-118.24875 34.22249, -118.24875 34.2...  \n",
       "3     POLYGON ((-118.22023 34.02056, -118.22018 34.0...  \n",
       "4     POLYGON ((-118.23924 34.06726, -118.23800 34.0...  \n",
       "...                                                 ...  \n",
       "2338  POLYGON ((-118.20985 33.92506, -118.20579 33.9...  \n",
       "2339  POLYGON ((-118.20617 33.97632, -118.20610 33.9...  \n",
       "2340  POLYGON ((-118.31048 33.76685, -118.31023 33.7...  \n",
       "2341  POLYGON ((-118.57556 34.08019, -118.57497 34.0...  \n",
       "2342  POLYGON ((-118.24860 34.23881, -118.24858 34.2...  \n",
       "\n",
       "[2343 rows x 6 columns]"
      ]
     },
     "execution_count": 14,
     "metadata": {},
     "output_type": "execute_result"
    }
   ],
   "source": [
    "poverty_rate_trimmed = poverty_rate[desired_columns].copy()\n",
    "poverty_rate_trimmed"
   ]
  },
  {
   "cell_type": "code",
   "execution_count": 15,
   "metadata": {
    "scrolled": false
   },
   "outputs": [
    {
     "data": {
      "text/html": [
       "<div>\n",
       "<style scoped>\n",
       "    .dataframe tbody tr th:only-of-type {\n",
       "        vertical-align: middle;\n",
       "    }\n",
       "\n",
       "    .dataframe tbody tr th {\n",
       "        vertical-align: top;\n",
       "    }\n",
       "\n",
       "    .dataframe thead th {\n",
       "        text-align: right;\n",
       "    }\n",
       "</style>\n",
       "<table border=\"1\" class=\"dataframe\">\n",
       "  <thead>\n",
       "    <tr style=\"text-align: right;\">\n",
       "      <th></th>\n",
       "      <th>intptlat</th>\n",
       "      <th>intptlon</th>\n",
       "      <th>name</th>\n",
       "      <th>namelsad</th>\n",
       "      <th>povrate</th>\n",
       "      <th>geometry</th>\n",
       "    </tr>\n",
       "  </thead>\n",
       "  <tbody>\n",
       "    <tr>\n",
       "      <th>0</th>\n",
       "      <td>+34.0175004</td>\n",
       "      <td>-118.1974975</td>\n",
       "      <td>2049.20</td>\n",
       "      <td>Census Tract 2049.20</td>\n",
       "      <td>28.3</td>\n",
       "      <td>POLYGON ((-118.20284 34.01966, -118.20283 34.0...</td>\n",
       "    </tr>\n",
       "    <tr>\n",
       "      <th>1</th>\n",
       "      <td>+34.0245059</td>\n",
       "      <td>-118.2142985</td>\n",
       "      <td>2051.10</td>\n",
       "      <td>Census Tract 2051.10</td>\n",
       "      <td>29.4</td>\n",
       "      <td>POLYGON ((-118.21964 34.02628, -118.21945 34.0...</td>\n",
       "    </tr>\n",
       "    <tr>\n",
       "      <th>2</th>\n",
       "      <td>+34.2206688</td>\n",
       "      <td>-118.2399756</td>\n",
       "      <td>3005.01</td>\n",
       "      <td>Census Tract 3005.01</td>\n",
       "      <td>6.3</td>\n",
       "      <td>POLYGON ((-118.24875 34.22249, -118.24875 34.2...</td>\n",
       "    </tr>\n",
       "    <tr>\n",
       "      <th>3</th>\n",
       "      <td>+34.0187546</td>\n",
       "      <td>-118.2117956</td>\n",
       "      <td>2051.20</td>\n",
       "      <td>Census Tract 2051.20</td>\n",
       "      <td>35.5</td>\n",
       "      <td>POLYGON ((-118.22023 34.02056, -118.22018 34.0...</td>\n",
       "    </tr>\n",
       "    <tr>\n",
       "      <th>4</th>\n",
       "      <td>+34.0682177</td>\n",
       "      <td>-118.2320356</td>\n",
       "      <td>2060.10</td>\n",
       "      <td>Census Tract 2060.10</td>\n",
       "      <td>38.7</td>\n",
       "      <td>POLYGON ((-118.23924 34.06726, -118.23800 34.0...</td>\n",
       "    </tr>\n",
       "  </tbody>\n",
       "</table>\n",
       "</div>"
      ],
      "text/plain": [
       "      intptlat      intptlon     name              namelsad  povrate  \\\n",
       "0  +34.0175004  -118.1974975  2049.20  Census Tract 2049.20     28.3   \n",
       "1  +34.0245059  -118.2142985  2051.10  Census Tract 2051.10     29.4   \n",
       "2  +34.2206688  -118.2399756  3005.01  Census Tract 3005.01      6.3   \n",
       "3  +34.0187546  -118.2117956  2051.20  Census Tract 2051.20     35.5   \n",
       "4  +34.0682177  -118.2320356  2060.10  Census Tract 2060.10     38.7   \n",
       "\n",
       "                                            geometry  \n",
       "0  POLYGON ((-118.20284 34.01966, -118.20283 34.0...  \n",
       "1  POLYGON ((-118.21964 34.02628, -118.21945 34.0...  \n",
       "2  POLYGON ((-118.24875 34.22249, -118.24875 34.2...  \n",
       "3  POLYGON ((-118.22023 34.02056, -118.22018 34.0...  \n",
       "4  POLYGON ((-118.23924 34.06726, -118.23800 34.0...  "
      ]
     },
     "execution_count": 15,
     "metadata": {},
     "output_type": "execute_result"
    }
   ],
   "source": [
    "poverty_rate_trimmed.head()"
   ]
  },
  {
   "cell_type": "code",
   "execution_count": 16,
   "metadata": {
    "scrolled": true
   },
   "outputs": [
    {
     "data": {
      "text/html": [
       "<div>\n",
       "<style scoped>\n",
       "    .dataframe tbody tr th:only-of-type {\n",
       "        vertical-align: middle;\n",
       "    }\n",
       "\n",
       "    .dataframe tbody tr th {\n",
       "        vertical-align: top;\n",
       "    }\n",
       "\n",
       "    .dataframe thead th {\n",
       "        text-align: right;\n",
       "    }\n",
       "</style>\n",
       "<table border=\"1\" class=\"dataframe\">\n",
       "  <thead>\n",
       "    <tr style=\"text-align: right;\">\n",
       "      <th></th>\n",
       "      <th>intptlat</th>\n",
       "      <th>intptlon</th>\n",
       "      <th>name</th>\n",
       "      <th>namelsad</th>\n",
       "      <th>povrate</th>\n",
       "      <th>geometry</th>\n",
       "    </tr>\n",
       "  </thead>\n",
       "  <tbody>\n",
       "    <tr>\n",
       "      <th>2338</th>\n",
       "      <td>+33.9170526</td>\n",
       "      <td>-118.2033535</td>\n",
       "      <td>5417</td>\n",
       "      <td>Census Tract 5417</td>\n",
       "      <td>19.7</td>\n",
       "      <td>POLYGON ((-118.20985 33.92506, -118.20579 33.9...</td>\n",
       "    </tr>\n",
       "    <tr>\n",
       "      <th>2339</th>\n",
       "      <td>+33.9724728</td>\n",
       "      <td>-118.1950660</td>\n",
       "      <td>5336.03</td>\n",
       "      <td>Census Tract 5336.03</td>\n",
       "      <td>26.2</td>\n",
       "      <td>POLYGON ((-118.20617 33.97632, -118.20610 33.9...</td>\n",
       "    </tr>\n",
       "    <tr>\n",
       "      <th>2340</th>\n",
       "      <td>+33.7732472</td>\n",
       "      <td>-118.2888391</td>\n",
       "      <td>9800.15</td>\n",
       "      <td>Census Tract 9800.15</td>\n",
       "      <td>24.0</td>\n",
       "      <td>POLYGON ((-118.31048 33.76685, -118.31023 33.7...</td>\n",
       "    </tr>\n",
       "    <tr>\n",
       "      <th>2341</th>\n",
       "      <td>+34.0738344</td>\n",
       "      <td>-118.5557893</td>\n",
       "      <td>2626.01</td>\n",
       "      <td>Census Tract 2626.01</td>\n",
       "      <td>5.8</td>\n",
       "      <td>POLYGON ((-118.57556 34.08019, -118.57497 34.0...</td>\n",
       "    </tr>\n",
       "    <tr>\n",
       "      <th>2342</th>\n",
       "      <td>+34.2442558</td>\n",
       "      <td>-118.2325716</td>\n",
       "      <td>3001</td>\n",
       "      <td>Census Tract 3001</td>\n",
       "      <td>4.3</td>\n",
       "      <td>POLYGON ((-118.24860 34.23881, -118.24858 34.2...</td>\n",
       "    </tr>\n",
       "  </tbody>\n",
       "</table>\n",
       "</div>"
      ],
      "text/plain": [
       "         intptlat      intptlon     name              namelsad  povrate  \\\n",
       "2338  +33.9170526  -118.2033535     5417     Census Tract 5417     19.7   \n",
       "2339  +33.9724728  -118.1950660  5336.03  Census Tract 5336.03     26.2   \n",
       "2340  +33.7732472  -118.2888391  9800.15  Census Tract 9800.15     24.0   \n",
       "2341  +34.0738344  -118.5557893  2626.01  Census Tract 2626.01      5.8   \n",
       "2342  +34.2442558  -118.2325716     3001     Census Tract 3001      4.3   \n",
       "\n",
       "                                               geometry  \n",
       "2338  POLYGON ((-118.20985 33.92506, -118.20579 33.9...  \n",
       "2339  POLYGON ((-118.20617 33.97632, -118.20610 33.9...  \n",
       "2340  POLYGON ((-118.31048 33.76685, -118.31023 33.7...  \n",
       "2341  POLYGON ((-118.57556 34.08019, -118.57497 34.0...  \n",
       "2342  POLYGON ((-118.24860 34.23881, -118.24858 34.2...  "
      ]
     },
     "execution_count": 16,
     "metadata": {},
     "output_type": "execute_result"
    }
   ],
   "source": [
    "poverty_rate_trimmed.tail()"
   ]
  },
  {
   "cell_type": "markdown",
   "metadata": {},
   "source": [
    "## Charts! \n",
    "> Below I ploted the data.\n",
    "- There's a histgram, line, box, and pie chart of the poverty rate. \n",
    "\n"
   ]
  },
  {
   "cell_type": "code",
   "execution_count": 51,
   "metadata": {},
   "outputs": [
    {
     "data": {
      "text/plain": [
       "<matplotlib.axes._subplots.AxesSubplot at 0x7f8dcaeb69a0>"
      ]
     },
     "execution_count": 51,
     "metadata": {},
     "output_type": "execute_result"
    },
    {
     "data": {
      "image/png": "[encoded data removed]",
      "text/plain": [
       "<Figure size 432x288 with 1 Axes>"
      ]
     },
     "metadata": {
      "needs_background": "light"
     },
     "output_type": "display_data"
    }
   ],
   "source": [
    "poverty_rate_trimmed.plot()"
   ]
  },
  {
   "cell_type": "code",
   "execution_count": 52,
   "metadata": {
    "scrolled": true
   },
   "outputs": [
    {
     "data": {
      "text/plain": [
       "0       POLYGON ((-118.20284 34.01966, -118.20283 34.0...\n",
       "1       POLYGON ((-118.21964 34.02628, -118.21945 34.0...\n",
       "2       POLYGON ((-118.24875 34.22249, -118.24875 34.2...\n",
       "3       POLYGON ((-118.22023 34.02056, -118.22018 34.0...\n",
       "4       POLYGON ((-118.23924 34.06726, -118.23800 34.0...\n",
       "                              ...                        \n",
       "2338    POLYGON ((-118.20985 33.92506, -118.20579 33.9...\n",
       "2339    POLYGON ((-118.20617 33.97632, -118.20610 33.9...\n",
       "2340    POLYGON ((-118.31048 33.76685, -118.31023 33.7...\n",
       "2341    POLYGON ((-118.57556 34.08019, -118.57497 34.0...\n",
       "2342    POLYGON ((-118.24860 34.23881, -118.24858 34.2...\n",
       "Name: geometry, Length: 2343, dtype: geometry"
      ]
     },
     "execution_count": 52,
     "metadata": {},
     "output_type": "execute_result"
    }
   ],
   "source": [
    "poverty_rate_trimmed.geometry"
   ]
  },
  {
   "cell_type": "code",
   "execution_count": 53,
   "metadata": {
    "scrolled": false
   },
   "outputs": [
    {
     "data": {
      "text/plain": [
       "['intptlat', 'intptlon', 'name', 'namelsad', 'povrate', 'geometry']"
      ]
     },
     "execution_count": 53,
     "metadata": {},
     "output_type": "execute_result"
    }
   ],
   "source": [
    "list (poverty_rate_trimmed)"
   ]
  },
  {
   "cell_type": "code",
   "execution_count": 54,
   "metadata": {
    "scrolled": true
   },
   "outputs": [
    {
     "data": {
      "text/plain": [
       "<matplotlib.axes._subplots.AxesSubplot at 0x7f8dcaeeb310>"
      ]
     },
     "execution_count": 54,
     "metadata": {},
     "output_type": "execute_result"
    },
    {
     "data": {
      "image/png": "[encoded data removed]",
      "text/plain": [
       "<Figure size 432x288 with 1 Axes>"
      ]
     },
     "metadata": {
      "needs_background": "light"
     },
     "output_type": "display_data"
    }
   ],
   "source": [
    "poverty_rate_trimmed['povrate'].plot.hist(bins=50)"
   ]
  },
  {
   "cell_type": "code",
   "execution_count": 76,
   "metadata": {
    "scrolled": true
   },
   "outputs": [
    {
     "data": {
      "text/plain": [
       "<matplotlib.axes._subplots.AxesSubplot at 0x7f8dbfc54190>"
      ]
     },
     "execution_count": 76,
     "metadata": {},
     "output_type": "execute_result"
    },
    {
     "data": {
      "image/png": "[encoded data removed]",
      "text/plain": [
       "<Figure size 432x288 with 1 Axes>"
      ]
     },
     "metadata": {
      "needs_background": "light"
     },
     "output_type": "display_data"
    }
   ],
   "source": [
    "poverty_rate_trimmed['povrate'].plot.line (1000)"
   ]
  },
  {
   "cell_type": "code",
   "execution_count": 82,
   "metadata": {
    "scrolled": false
   },
   "outputs": [
    {
     "data": {
      "text/plain": [
       "<matplotlib.axes._subplots.AxesSubplot at 0x7f8dbfacceb0>"
      ]
     },
     "execution_count": 82,
     "metadata": {},
     "output_type": "execute_result"
    },
    {
     "data": {
      "image/png": "[encoded data removed]",
      "text/plain": [
       "<Figure size 432x288 with 1 Axes>"
      ]
     },
     "metadata": {
      "needs_background": "light"
     },
     "output_type": "display_data"
    }
   ],
   "source": [
    "poverty_rate_trimmed['povrate'].plot.box (10)"
   ]
  },
  {
   "cell_type": "code",
   "execution_count": 87,
   "metadata": {
    "scrolled": true
   },
   "outputs": [
    {
     "data": {
      "text/plain": [
       "<matplotlib.axes._subplots.AxesSubplot at 0x7f8dbd7a79a0>"
      ]
     },
     "execution_count": 87,
     "metadata": {},
     "output_type": "execute_result"
    },
    {
     "data": {
      "image/png": "[encoded data removed]",
      "text/plain": [
       "<Figure size 432x288 with 1 Axes>"
      ]
     },
     "metadata": {},
     "output_type": "display_data"
    }
   ],
   "source": [
    "poverty_rate_trimmed['povrate'].head(10).plot.pie ()"
   ]
  },
  {
   "cell_type": "code",
   "execution_count": 34,
   "metadata": {},
   "outputs": [],
   "source": [
    "import folium"
   ]
  },
  {
   "cell_type": "code",
   "execution_count": 91,
   "metadata": {
    "scrolled": true
   },
   "outputs": [
    {
     "data": {
      "text/html": [
       "<div style=\"width:100%;\"><div style=\"position:relative;width:100%;height:0;padding-bottom:60%;\"><span style=\"color:#565656\">Make this Notebook Trusted to load map: File -> Trust Notebook</span><iframe src=\"about:blank\" style=\"position:absolute;width:100%;height:100%;left:0;top:0;border:none !important;\" data-html=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 onload=\"this.contentDocument.open();this.contentDocument.write(atob(this.getAttribute('data-html')));this.contentDocument.close();\" allowfullscreen webkitallowfullscreen mozallowfullscreen></iframe></div></div>"
      ],
      "text/plain": [
       "<folium.folium.Map at 0x7f8dbd7a7160>"
      ]
     },
     "execution_count": 91,
     "metadata": {},
     "output_type": "execute_result"
    }
   ],
   "source": [
    "m = folium.Map()\n",
    "m"
   ]
  },
  {
   "cell_type": "code",
   "execution_count": 116,
   "metadata": {},
   "outputs": [
    {
     "data": {
      "text/plain": [
       "<matplotlib.axes._subplots.AxesSubplot at 0x7f8dbcd7ba90>"
      ]
     },
     "execution_count": 116,
     "metadata": {},
     "output_type": "execute_result"
    },
    {
     "data": {
      "image/png": "[encoded data removed]",
      "text/plain": [
       "<Figure size 720x720 with 2 Axes>"
      ]
     },
     "metadata": {
      "needs_background": "light"
     },
     "output_type": "display_data"
    }
   ],
   "source": [
    "poverty_rate_trimmed.plot(\n",
    "            figsize=(10,10),   \n",
    "            column = 'povrate',   \n",
    "            legend = True,                \n",
    "                             \n",
    ")             "
   ]
  },
  {
   "cell_type": "code",
   "execution_count": 117,
   "metadata": {
    "scrolled": true
   },
   "outputs": [
    {
     "data": {
      "text/html": [
       "<div style=\"width:100%;\"><div style=\"position:relative;width:100%;height:0;padding-bottom:60%;\"><span style=\"color:#565656\">Make this Notebook Trusted to load map: File -> Trust Notebook</span><iframe src=\"about:blank\" style=\"position:absolute;width:100%;height:100%;left:0;top:0;border:none !important;\" data-html=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 onload=\"this.contentDocument.open();this.contentDocument.write(atob(this.getAttribute('data-html')));this.contentDocument.close();\" allowfullscreen webkitallowfullscreen mozallowfullscreen></iframe></div></div>"
      ],
      "text/plain": [
       "<folium.folium.Map at 0x7f8dbddba130>"
      ]
     },
     "execution_count": 117,
     "metadata": {},
     "output_type": "execute_result"
    }
   ],
   "source": [
    "m = folium.Map(location=[34.00158291566265, -118.25104531325], zoom_start=10)\n",
    "m"
   ]
  },
  {
   "cell_type": "code",
   "execution_count": 112,
   "metadata": {},
   "outputs": [],
   "source": [
    "mean = poverty_rate_trimmed.povrate.mean ()"
   ]
  },
  {
   "cell_type": "code",
   "execution_count": 114,
   "metadata": {},
   "outputs": [
    {
     "data": {
      "text/plain": [
       "17.14635083226633"
      ]
     },
     "execution_count": 114,
     "metadata": {},
     "output_type": "execute_result"
    }
   ],
   "source": [
    "mean"
   ]
  },
  {
   "cell_type": "markdown",
   "metadata": {},
   "source": [
    "## Outcomes \n",
    "> The data file needed to be clean. unforunately the way the LAtitude and Longitude are added to the file, I couldn't add the data to the folium map. "
   ]
  }
 ],
 "metadata": {
  "kernelspec": {
   "display_name": "Python 3",
   "language": "python",
   "name": "python3"
  },
  "language_info": {
   "codemirror_mode": {
    "name": "ipython",
    "version": 3
   },
   "file_extension": ".py",
   "mimetype": "text/x-python",
   "name": "python",
   "nbconvert_exporter": "python",
   "pygments_lexer": "ipython3",
   "version": "3.8.5"
  },
  "toc": {
   "base_numbering": 1,
   "nav_menu": {},
   "number_sections": true,
   "sideBar": true,
   "skip_h1_title": false,
   "title_cell": "Table of Contents",
   "title_sidebar": "Contents",
   "toc_cell": false,
   "toc_position": {},
   "toc_section_display": true,
   "toc_window_display": false
  }
 },
 "nbformat": 4,
 "nbformat_minor": 4
}
